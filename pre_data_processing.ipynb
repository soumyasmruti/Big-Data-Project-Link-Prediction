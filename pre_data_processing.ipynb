{
 "cells": [
  {
   "cell_type": "code",
   "execution_count": 2,
   "metadata": {
    "collapsed": false
   },
   "outputs": [],
   "source": [
    "import glob, json\n",
    "import dateutil.parser\n",
    "from collections import Counter\n",
    "\n",
    "def write_json(d, fname):\n",
    "    \"\"\"Writes dictionary d to fname\"\"\"\n",
    "    with open(fname, 'w') as f:\n",
    "        f.write(json.dumps(d))\n",
    "\n",
    "def make_init_user_hotels(reviews_it):\n",
    "    userid_list = []\n",
    "    hotelId_list = []\n",
    "    user_date = {}\n",
    "    for review, key in reviews_it.iteritems():\n",
    "        try:\n",
    "            user_date[key[\"Author\"]].append(key[\"Date\"])\n",
    "        except:\n",
    "            user_date[key[\"Author\"]] = []\n",
    "        userid_list.append(key[\"Author\"])\n",
    "        hotelId_list.append(key[\"HotelID\"])\n",
    "    u_c = Counter(userid_list)\n",
    "    h_c = Counter(hotelId_list)\n",
    "    return u_c, h_c, user_date\n",
    "#     write_json(u_c, \"int_users.json\")\n",
    "#     write_json(h_c, \"int_hotels.json\")\n",
    "#     write_json(user_date, \"user_date.json\")\n",
    "\n",
    "def make_user_list(review_json, user_json, date_json, hotel_json):\n",
    "    user_loc = {}\n",
    "    hotels = {}\n",
    "    for review, key in review_json.iteritems():\n",
    "        userid = key[\"Author\"]\n",
    "        user_loc[userid] = {\"ReviewCount\": user_json[userid], \n",
    "                            \"LatestDate\": max(date_json[userid]) if date_json[userid] else -1,\n",
    "                            \"UserLocation\": key[\"Author Location\"]}\n",
    "        \n",
    "        hotelid = key[\"HotelID\"]\n",
    "        hotels[hotelid] = {\"ReviewCount\": hotel_json[hotelid],\n",
    "                           \"HotelLocation\": key[\"HotelLocation\"]}\n",
    "    \n",
    "    write_json(user_loc, \"./data/created/users.json\")\n",
    "    write_json(hotels, \"./data/created/hotels.json\")    \n",
    "\n",
    "    \n",
    "def main_creator():\n",
    "    reviews_it = {}\n",
    "    with open(\"./data/created/reviews.json\") as f:\n",
    "        reviews_it = json.load(f)\n",
    "    user_json, hotel_json, date_json = make_init_user_hotels(reviews_it)\n",
    "    make_user_list(reviews_it, user_json, date_json, hotel_json)\n",
    "    \n",
    "main_creator()"
   ]
  },
  {
   "cell_type": "code",
   "execution_count": null,
   "metadata": {
    "collapsed": true
   },
   "outputs": [],
   "source": []
  }
 ],
 "metadata": {
  "kernelspec": {
   "display_name": "Python 2",
   "language": "python",
   "name": "python2"
  },
  "language_info": {
   "codemirror_mode": {
    "name": "ipython",
    "version": 2
   },
   "file_extension": ".py",
   "mimetype": "text/x-python",
   "name": "python",
   "nbconvert_exporter": "python",
   "pygments_lexer": "ipython2",
   "version": "2.7.9"
  }
 },
 "nbformat": 4,
 "nbformat_minor": 0
}
